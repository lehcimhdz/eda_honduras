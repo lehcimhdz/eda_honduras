{
 "cells": [
  {
   "cell_type": "markdown",
   "id": "b1b82b62-2eb6-4ed9-a93d-ed8046dfce31",
   "metadata": {},
   "source": [
    "#### Análisis exploratorio de datos sobre la violencia criminal en Honduras"
   ]
  },
  {
   "cell_type": "code",
   "execution_count": 1,
   "id": "c3e69324-9ce1-42e6-8a89-7a086629f276",
   "metadata": {},
   "outputs": [],
   "source": [
    "# Cargamos las librerias necesarias para realizar el análisis exploratorio\n",
    "\n",
    "import pandas as pd"
   ]
  },
  {
   "cell_type": "code",
   "execution_count": null,
   "id": "49c05471-ac43-4d31-a715-1b779e019ee1",
   "metadata": {},
   "outputs": [],
   "source": [
    "# Cargamos la base de datos general de UNOCD y se realiza una primera revision del dataset\n",
    "\n",
    "datos = pd.read_excel('datasets/data_cts_intentional_homicide.xlsx', skiprows=2)\n",
    "datos.head()"
   ]
  },
  {
   "cell_type": "markdown",
   "id": "8227e9ab-2f9d-49db-bd17-95a148c70aa3",
   "metadata": {},
   "source": [
    "Únicamente nos interesa Honduras. Entonces, realizaremos un filtrado por país para solo obtener datos de HND."
   ]
  },
  {
   "cell_type": "code",
   "execution_count": null,
   "id": "0b2b96a7-43b2-4819-93f1-5efdc506b6af",
   "metadata": {},
   "outputs": [],
   "source": [
    "datos = datos[datos['Iso3_code'] == 'HND'].reset_index(drop=True)\n",
    "datos.head()"
   ]
  },
  {
   "cell_type": "code",
   "execution_count": null,
   "id": "8120cd08-dc65-422b-80bb-d99fb2e4d4e5",
   "metadata": {},
   "outputs": [],
   "source": [
    "len(datos)"
   ]
  },
  {
   "cell_type": "code",
   "execution_count": null,
   "id": "d8969489-38cc-4463-a046-b7f2342432ae",
   "metadata": {},
   "outputs": [],
   "source": [
    "datos.nunique()"
   ]
  },
  {
   "cell_type": "code",
   "execution_count": null,
   "id": "e7d743a2-574e-4711-9cad-21561d93aebc",
   "metadata": {},
   "outputs": [],
   "source": [
    "datos['Indicator'].value_counts()"
   ]
  },
  {
   "cell_type": "code",
   "execution_count": null,
   "id": "1cf1be2b-d9eb-444f-8303-2d5f770dc4f9",
   "metadata": {},
   "outputs": [],
   "source": [
    "homicidios_hnd = datos[datos['Indicator'] == 'Victims of intentional homicide']\n",
    "homicidios_hnd.head()"
   ]
  },
  {
   "cell_type": "code",
   "execution_count": null,
   "id": "108eade6-645f-4cf0-9cb8-473733b1b516",
   "metadata": {},
   "outputs": [],
   "source": [
    "homicidios_hnd[['Dimension', 'Category', 'Sex', 'Age', 'Year']].value_counts()"
   ]
  },
  {
   "cell_type": "code",
   "execution_count": null,
   "id": "973f84c8-75e3-4cb3-bd28-ddb73a7a14ab",
   "metadata": {},
   "outputs": [],
   "source": [
    "hmcds_total = homicidios_hnd[\n",
    "    (homicidios_hnd['Dimension'] == 'Total') &\n",
    "    (homicidios_hnd['Category'] == 'Total') &\n",
    "    (homicidios_hnd['Sex'] == 'Total') &\n",
    "    (homicidios_hnd['Age'] == 'Total') &\n",
    "    (homicidios_hnd['Unit of measurement'] == 'Counts')\n",
    "].reset_index(drop=True)"
   ]
  },
  {
   "cell_type": "code",
   "execution_count": null,
   "id": "18e1e068-3d27-44c9-964e-4a8f6222644a",
   "metadata": {},
   "outputs": [],
   "source": [
    "hmcds_total.head()"
   ]
  },
  {
   "cell_type": "code",
   "execution_count": null,
   "id": "4ebb80db-116a-422f-948f-dd77245c44b4",
   "metadata": {},
   "outputs": [],
   "source": [
    "len(hmcds_total)"
   ]
  },
  {
   "cell_type": "code",
   "execution_count": null,
   "id": "abef8b8a-6a43-4057-b4c7-502e998f6837",
   "metadata": {},
   "outputs": [],
   "source": []
  }
 ],
 "metadata": {
  "kernelspec": {
   "display_name": "Python 3 (ipykernel)",
   "language": "python",
   "name": "python3"
  },
  "language_info": {
   "codemirror_mode": {
    "name": "ipython",
    "version": 3
   },
   "file_extension": ".py",
   "mimetype": "text/x-python",
   "name": "python",
   "nbconvert_exporter": "python",
   "pygments_lexer": "ipython3",
   "version": "3.12.2"
  }
 },
 "nbformat": 4,
 "nbformat_minor": 5
}
