{
 "cells": [
  {
   "cell_type": "markdown",
   "id": "b1b82b62-2eb6-4ed9-a93d-ed8046dfce31",
   "metadata": {},
   "source": [
    "#### Análisis exploratorio de datos sobre la violencia criminal en Honduras"
   ]
  },
  {
   "cell_type": "code",
   "execution_count": 1,
   "id": "c3e69324-9ce1-42e6-8a89-7a086629f276",
   "metadata": {},
   "outputs": [],
   "source": [
    "# Cargamos las librerias necesarias para realizar el análisis exploratorio\n",
    "\n",
    "import pandas as pd\n",
    "import seaborn as sns\n",
    "import matplotlib.pyplot as plt"
   ]
  },
  {
   "cell_type": "code",
   "execution_count": 2,
   "id": "49c05471-ac43-4d31-a715-1b779e019ee1",
   "metadata": {},
   "outputs": [
    {
     "data": {
      "text/html": [
       "<div>\n",
       "<style scoped>\n",
       "    .dataframe tbody tr th:only-of-type {\n",
       "        vertical-align: middle;\n",
       "    }\n",
       "\n",
       "    .dataframe tbody tr th {\n",
       "        vertical-align: top;\n",
       "    }\n",
       "\n",
       "    .dataframe thead th {\n",
       "        text-align: right;\n",
       "    }\n",
       "</style>\n",
       "<table border=\"1\" class=\"dataframe\">\n",
       "  <thead>\n",
       "    <tr style=\"text-align: right;\">\n",
       "      <th></th>\n",
       "      <th>Iso3_code</th>\n",
       "      <th>Country</th>\n",
       "      <th>Region</th>\n",
       "      <th>Subregion</th>\n",
       "      <th>Indicator</th>\n",
       "      <th>Dimension</th>\n",
       "      <th>Category</th>\n",
       "      <th>Sex</th>\n",
       "      <th>Age</th>\n",
       "      <th>Year</th>\n",
       "      <th>Unit of measurement</th>\n",
       "      <th>VALUE</th>\n",
       "      <th>Source</th>\n",
       "    </tr>\n",
       "  </thead>\n",
       "  <tbody>\n",
       "    <tr>\n",
       "      <th>0</th>\n",
       "      <td>ARM</td>\n",
       "      <td>Armenia</td>\n",
       "      <td>Asia</td>\n",
       "      <td>Western Asia</td>\n",
       "      <td>Persons arrested/suspected for intentional hom...</td>\n",
       "      <td>by citizenship</td>\n",
       "      <td>National citizens</td>\n",
       "      <td>Male</td>\n",
       "      <td>Total</td>\n",
       "      <td>2013</td>\n",
       "      <td>Counts</td>\n",
       "      <td>35.0</td>\n",
       "      <td>CTS</td>\n",
       "    </tr>\n",
       "    <tr>\n",
       "      <th>1</th>\n",
       "      <td>CHE</td>\n",
       "      <td>Switzerland</td>\n",
       "      <td>Europe</td>\n",
       "      <td>Western Europe</td>\n",
       "      <td>Persons arrested/suspected for intentional hom...</td>\n",
       "      <td>by citizenship</td>\n",
       "      <td>National citizens</td>\n",
       "      <td>Male</td>\n",
       "      <td>Total</td>\n",
       "      <td>2013</td>\n",
       "      <td>Counts</td>\n",
       "      <td>28.0</td>\n",
       "      <td>CTS</td>\n",
       "    </tr>\n",
       "    <tr>\n",
       "      <th>2</th>\n",
       "      <td>COL</td>\n",
       "      <td>Colombia</td>\n",
       "      <td>Americas</td>\n",
       "      <td>Latin America and the Caribbean</td>\n",
       "      <td>Persons arrested/suspected for intentional hom...</td>\n",
       "      <td>by citizenship</td>\n",
       "      <td>National citizens</td>\n",
       "      <td>Male</td>\n",
       "      <td>Total</td>\n",
       "      <td>2013</td>\n",
       "      <td>Counts</td>\n",
       "      <td>15053.0</td>\n",
       "      <td>CTS</td>\n",
       "    </tr>\n",
       "    <tr>\n",
       "      <th>3</th>\n",
       "      <td>CZE</td>\n",
       "      <td>Czechia</td>\n",
       "      <td>Europe</td>\n",
       "      <td>Eastern Europe</td>\n",
       "      <td>Persons arrested/suspected for intentional hom...</td>\n",
       "      <td>by citizenship</td>\n",
       "      <td>National citizens</td>\n",
       "      <td>Male</td>\n",
       "      <td>Total</td>\n",
       "      <td>2013</td>\n",
       "      <td>Counts</td>\n",
       "      <td>69.0</td>\n",
       "      <td>CTS</td>\n",
       "    </tr>\n",
       "    <tr>\n",
       "      <th>4</th>\n",
       "      <td>DEU</td>\n",
       "      <td>Germany</td>\n",
       "      <td>Europe</td>\n",
       "      <td>Western Europe</td>\n",
       "      <td>Persons arrested/suspected for intentional hom...</td>\n",
       "      <td>by citizenship</td>\n",
       "      <td>National citizens</td>\n",
       "      <td>Male</td>\n",
       "      <td>Total</td>\n",
       "      <td>2013</td>\n",
       "      <td>Counts</td>\n",
       "      <td>455.0</td>\n",
       "      <td>CTS</td>\n",
       "    </tr>\n",
       "  </tbody>\n",
       "</table>\n",
       "</div>"
      ],
      "text/plain": [
       "  Iso3_code      Country    Region                        Subregion  \\\n",
       "0       ARM      Armenia      Asia                     Western Asia   \n",
       "1       CHE  Switzerland    Europe                   Western Europe   \n",
       "2       COL     Colombia  Americas  Latin America and the Caribbean   \n",
       "3       CZE      Czechia    Europe                   Eastern Europe   \n",
       "4       DEU      Germany    Europe                   Western Europe   \n",
       "\n",
       "                                           Indicator       Dimension  \\\n",
       "0  Persons arrested/suspected for intentional hom...  by citizenship   \n",
       "1  Persons arrested/suspected for intentional hom...  by citizenship   \n",
       "2  Persons arrested/suspected for intentional hom...  by citizenship   \n",
       "3  Persons arrested/suspected for intentional hom...  by citizenship   \n",
       "4  Persons arrested/suspected for intentional hom...  by citizenship   \n",
       "\n",
       "            Category   Sex    Age  Year Unit of measurement    VALUE Source  \n",
       "0  National citizens  Male  Total  2013              Counts     35.0    CTS  \n",
       "1  National citizens  Male  Total  2013              Counts     28.0    CTS  \n",
       "2  National citizens  Male  Total  2013              Counts  15053.0    CTS  \n",
       "3  National citizens  Male  Total  2013              Counts     69.0    CTS  \n",
       "4  National citizens  Male  Total  2013              Counts    455.0    CTS  "
      ]
     },
     "execution_count": 2,
     "metadata": {},
     "output_type": "execute_result"
    }
   ],
   "source": [
    "# Cargamos la base de datos general de UNOCD y se realiza una primera revision del dataset\n",
    "\n",
    "datos = pd.read_excel('datasets/data_cts_intentional_homicide.xlsx', skiprows=2)\n",
    "datos.head()"
   ]
  },
  {
   "cell_type": "markdown",
   "id": "8227e9ab-2f9d-49db-bd17-95a148c70aa3",
   "metadata": {},
   "source": [
    "Únicamente nos interesa Honduras. Entonces, realizaremos un filtrado por país para solo obtener datos de HND."
   ]
  },
  {
   "cell_type": "code",
   "execution_count": 3,
   "id": "0b2b96a7-43b2-4819-93f1-5efdc506b6af",
   "metadata": {},
   "outputs": [
    {
     "data": {
      "text/html": [
       "<div>\n",
       "<style scoped>\n",
       "    .dataframe tbody tr th:only-of-type {\n",
       "        vertical-align: middle;\n",
       "    }\n",
       "\n",
       "    .dataframe tbody tr th {\n",
       "        vertical-align: top;\n",
       "    }\n",
       "\n",
       "    .dataframe thead th {\n",
       "        text-align: right;\n",
       "    }\n",
       "</style>\n",
       "<table border=\"1\" class=\"dataframe\">\n",
       "  <thead>\n",
       "    <tr style=\"text-align: right;\">\n",
       "      <th></th>\n",
       "      <th>Iso3_code</th>\n",
       "      <th>Country</th>\n",
       "      <th>Region</th>\n",
       "      <th>Subregion</th>\n",
       "      <th>Indicator</th>\n",
       "      <th>Dimension</th>\n",
       "      <th>Category</th>\n",
       "      <th>Sex</th>\n",
       "      <th>Age</th>\n",
       "      <th>Year</th>\n",
       "      <th>Unit of measurement</th>\n",
       "      <th>VALUE</th>\n",
       "      <th>Source</th>\n",
       "    </tr>\n",
       "  </thead>\n",
       "  <tbody>\n",
       "    <tr>\n",
       "      <th>0</th>\n",
       "      <td>HND</td>\n",
       "      <td>Honduras</td>\n",
       "      <td>Americas</td>\n",
       "      <td>Latin America and the Caribbean</td>\n",
       "      <td>Persons arrested/suspected for intentional hom...</td>\n",
       "      <td>by citizenship</td>\n",
       "      <td>National citizens</td>\n",
       "      <td>Male</td>\n",
       "      <td>Total</td>\n",
       "      <td>2013</td>\n",
       "      <td>Counts</td>\n",
       "      <td>905.0</td>\n",
       "      <td>CTS</td>\n",
       "    </tr>\n",
       "    <tr>\n",
       "      <th>1</th>\n",
       "      <td>HND</td>\n",
       "      <td>Honduras</td>\n",
       "      <td>Americas</td>\n",
       "      <td>Latin America and the Caribbean</td>\n",
       "      <td>Persons arrested/suspected for intentional hom...</td>\n",
       "      <td>by citizenship</td>\n",
       "      <td>National citizens</td>\n",
       "      <td>Male</td>\n",
       "      <td>Total</td>\n",
       "      <td>2014</td>\n",
       "      <td>Counts</td>\n",
       "      <td>1319.0</td>\n",
       "      <td>CTS</td>\n",
       "    </tr>\n",
       "    <tr>\n",
       "      <th>2</th>\n",
       "      <td>HND</td>\n",
       "      <td>Honduras</td>\n",
       "      <td>Americas</td>\n",
       "      <td>Latin America and the Caribbean</td>\n",
       "      <td>Persons arrested/suspected for intentional hom...</td>\n",
       "      <td>by citizenship</td>\n",
       "      <td>National citizens</td>\n",
       "      <td>Male</td>\n",
       "      <td>Total</td>\n",
       "      <td>2015</td>\n",
       "      <td>Counts</td>\n",
       "      <td>1879.0</td>\n",
       "      <td>CTS</td>\n",
       "    </tr>\n",
       "    <tr>\n",
       "      <th>3</th>\n",
       "      <td>HND</td>\n",
       "      <td>Honduras</td>\n",
       "      <td>Americas</td>\n",
       "      <td>Latin America and the Caribbean</td>\n",
       "      <td>Persons arrested/suspected for intentional hom...</td>\n",
       "      <td>by citizenship</td>\n",
       "      <td>National citizens</td>\n",
       "      <td>Male</td>\n",
       "      <td>Total</td>\n",
       "      <td>2016</td>\n",
       "      <td>Counts</td>\n",
       "      <td>1682.0</td>\n",
       "      <td>CTS</td>\n",
       "    </tr>\n",
       "    <tr>\n",
       "      <th>4</th>\n",
       "      <td>HND</td>\n",
       "      <td>Honduras</td>\n",
       "      <td>Americas</td>\n",
       "      <td>Latin America and the Caribbean</td>\n",
       "      <td>Persons arrested/suspected for intentional hom...</td>\n",
       "      <td>by citizenship</td>\n",
       "      <td>National citizens</td>\n",
       "      <td>Male</td>\n",
       "      <td>Total</td>\n",
       "      <td>2019</td>\n",
       "      <td>Counts</td>\n",
       "      <td>1561.0</td>\n",
       "      <td>CTS</td>\n",
       "    </tr>\n",
       "  </tbody>\n",
       "</table>\n",
       "</div>"
      ],
      "text/plain": [
       "  Iso3_code   Country    Region                        Subregion  \\\n",
       "0       HND  Honduras  Americas  Latin America and the Caribbean   \n",
       "1       HND  Honduras  Americas  Latin America and the Caribbean   \n",
       "2       HND  Honduras  Americas  Latin America and the Caribbean   \n",
       "3       HND  Honduras  Americas  Latin America and the Caribbean   \n",
       "4       HND  Honduras  Americas  Latin America and the Caribbean   \n",
       "\n",
       "                                           Indicator       Dimension  \\\n",
       "0  Persons arrested/suspected for intentional hom...  by citizenship   \n",
       "1  Persons arrested/suspected for intentional hom...  by citizenship   \n",
       "2  Persons arrested/suspected for intentional hom...  by citizenship   \n",
       "3  Persons arrested/suspected for intentional hom...  by citizenship   \n",
       "4  Persons arrested/suspected for intentional hom...  by citizenship   \n",
       "\n",
       "            Category   Sex    Age  Year Unit of measurement   VALUE Source  \n",
       "0  National citizens  Male  Total  2013              Counts   905.0    CTS  \n",
       "1  National citizens  Male  Total  2014              Counts  1319.0    CTS  \n",
       "2  National citizens  Male  Total  2015              Counts  1879.0    CTS  \n",
       "3  National citizens  Male  Total  2016              Counts  1682.0    CTS  \n",
       "4  National citizens  Male  Total  2019              Counts  1561.0    CTS  "
      ]
     },
     "execution_count": 3,
     "metadata": {},
     "output_type": "execute_result"
    }
   ],
   "source": [
    "datos = datos[datos['Iso3_code'] == 'HND'].reset_index(drop=True)\n",
    "datos.head()"
   ]
  },
  {
   "cell_type": "code",
   "execution_count": 4,
   "id": "8120cd08-dc65-422b-80bb-d99fb2e4d4e5",
   "metadata": {},
   "outputs": [
    {
     "data": {
      "text/plain": [
       "1634"
      ]
     },
     "execution_count": 4,
     "metadata": {},
     "output_type": "execute_result"
    }
   ],
   "source": [
    "len(datos)"
   ]
  },
  {
   "cell_type": "code",
   "execution_count": 5,
   "id": "d8969489-38cc-4463-a046-b7f2342432ae",
   "metadata": {},
   "outputs": [
    {
     "data": {
      "text/plain": [
       "Iso3_code                 1\n",
       "Country                   1\n",
       "Region                    1\n",
       "Subregion                 1\n",
       "Indicator                 5\n",
       "Dimension                 6\n",
       "Category                 24\n",
       "Sex                       3\n",
       "Age                      11\n",
       "Year                     31\n",
       "Unit of measurement       2\n",
       "VALUE                  1087\n",
       "Source                    3\n",
       "dtype: int64"
      ]
     },
     "execution_count": 5,
     "metadata": {},
     "output_type": "execute_result"
    }
   ],
   "source": [
    "datos.nunique()"
   ]
  },
  {
   "cell_type": "code",
   "execution_count": 6,
   "id": "e7d743a2-574e-4711-9cad-21561d93aebc",
   "metadata": {},
   "outputs": [
    {
     "data": {
      "text/plain": [
       "Indicator\n",
       "Victims of intentional homicide                        1208\n",
       "Persons arrested/suspected for intentional homicide     338\n",
       "Victims of intentional homicide – City-level data        58\n",
       "Death due to intentional homicide in prison              16\n",
       "Persons convicted for intentional homicide               14\n",
       "Name: count, dtype: int64"
      ]
     },
     "execution_count": 6,
     "metadata": {},
     "output_type": "execute_result"
    }
   ],
   "source": [
    "datos['Indicator'].value_counts()"
   ]
  },
  {
   "cell_type": "code",
   "execution_count": 7,
   "id": "1cf1be2b-d9eb-444f-8303-2d5f770dc4f9",
   "metadata": {},
   "outputs": [
    {
     "data": {
      "text/html": [
       "<div>\n",
       "<style scoped>\n",
       "    .dataframe tbody tr th:only-of-type {\n",
       "        vertical-align: middle;\n",
       "    }\n",
       "\n",
       "    .dataframe tbody tr th {\n",
       "        vertical-align: top;\n",
       "    }\n",
       "\n",
       "    .dataframe thead th {\n",
       "        text-align: right;\n",
       "    }\n",
       "</style>\n",
       "<table border=\"1\" class=\"dataframe\">\n",
       "  <thead>\n",
       "    <tr style=\"text-align: right;\">\n",
       "      <th></th>\n",
       "      <th>Iso3_code</th>\n",
       "      <th>Country</th>\n",
       "      <th>Region</th>\n",
       "      <th>Subregion</th>\n",
       "      <th>Indicator</th>\n",
       "      <th>Dimension</th>\n",
       "      <th>Category</th>\n",
       "      <th>Sex</th>\n",
       "      <th>Age</th>\n",
       "      <th>Year</th>\n",
       "      <th>Unit of measurement</th>\n",
       "      <th>VALUE</th>\n",
       "      <th>Source</th>\n",
       "    </tr>\n",
       "  </thead>\n",
       "  <tbody>\n",
       "    <tr>\n",
       "      <th>32</th>\n",
       "      <td>HND</td>\n",
       "      <td>Honduras</td>\n",
       "      <td>Americas</td>\n",
       "      <td>Latin America and the Caribbean</td>\n",
       "      <td>Victims of intentional homicide</td>\n",
       "      <td>Total</td>\n",
       "      <td>Total</td>\n",
       "      <td>Total</td>\n",
       "      <td>Total</td>\n",
       "      <td>1990</td>\n",
       "      <td>Counts</td>\n",
       "      <td>495.532800</td>\n",
       "      <td>RSC/Interpol/OCAVI/NSO/CTS</td>\n",
       "    </tr>\n",
       "    <tr>\n",
       "      <th>33</th>\n",
       "      <td>HND</td>\n",
       "      <td>Honduras</td>\n",
       "      <td>Americas</td>\n",
       "      <td>Latin America and the Caribbean</td>\n",
       "      <td>Victims of intentional homicide</td>\n",
       "      <td>Total</td>\n",
       "      <td>Total</td>\n",
       "      <td>Total</td>\n",
       "      <td>Total</td>\n",
       "      <td>1991</td>\n",
       "      <td>Counts</td>\n",
       "      <td>703.793238</td>\n",
       "      <td>RSC/Interpol/OCAVI/NSO/CTS</td>\n",
       "    </tr>\n",
       "    <tr>\n",
       "      <th>34</th>\n",
       "      <td>HND</td>\n",
       "      <td>Honduras</td>\n",
       "      <td>Americas</td>\n",
       "      <td>Latin America and the Caribbean</td>\n",
       "      <td>Victims of intentional homicide</td>\n",
       "      <td>Total</td>\n",
       "      <td>Total</td>\n",
       "      <td>Total</td>\n",
       "      <td>Total</td>\n",
       "      <td>1992</td>\n",
       "      <td>Counts</td>\n",
       "      <td>955.106152</td>\n",
       "      <td>RSC/Interpol/OCAVI/NSO/CTS</td>\n",
       "    </tr>\n",
       "    <tr>\n",
       "      <th>35</th>\n",
       "      <td>HND</td>\n",
       "      <td>Honduras</td>\n",
       "      <td>Americas</td>\n",
       "      <td>Latin America and the Caribbean</td>\n",
       "      <td>Victims of intentional homicide</td>\n",
       "      <td>Total</td>\n",
       "      <td>Total</td>\n",
       "      <td>Total</td>\n",
       "      <td>Total</td>\n",
       "      <td>1993</td>\n",
       "      <td>Counts</td>\n",
       "      <td>1252.522760</td>\n",
       "      <td>RSC/Interpol/OCAVI/NSO/CTS</td>\n",
       "    </tr>\n",
       "    <tr>\n",
       "      <th>36</th>\n",
       "      <td>HND</td>\n",
       "      <td>Honduras</td>\n",
       "      <td>Americas</td>\n",
       "      <td>Latin America and the Caribbean</td>\n",
       "      <td>Victims of intentional homicide</td>\n",
       "      <td>Total</td>\n",
       "      <td>Total</td>\n",
       "      <td>Total</td>\n",
       "      <td>Total</td>\n",
       "      <td>1994</td>\n",
       "      <td>Counts</td>\n",
       "      <td>1682.445375</td>\n",
       "      <td>RSC/Interpol/OCAVI/NSO/CTS</td>\n",
       "    </tr>\n",
       "  </tbody>\n",
       "</table>\n",
       "</div>"
      ],
      "text/plain": [
       "   Iso3_code   Country    Region                        Subregion  \\\n",
       "32       HND  Honduras  Americas  Latin America and the Caribbean   \n",
       "33       HND  Honduras  Americas  Latin America and the Caribbean   \n",
       "34       HND  Honduras  Americas  Latin America and the Caribbean   \n",
       "35       HND  Honduras  Americas  Latin America and the Caribbean   \n",
       "36       HND  Honduras  Americas  Latin America and the Caribbean   \n",
       "\n",
       "                          Indicator Dimension Category    Sex    Age  Year  \\\n",
       "32  Victims of intentional homicide     Total    Total  Total  Total  1990   \n",
       "33  Victims of intentional homicide     Total    Total  Total  Total  1991   \n",
       "34  Victims of intentional homicide     Total    Total  Total  Total  1992   \n",
       "35  Victims of intentional homicide     Total    Total  Total  Total  1993   \n",
       "36  Victims of intentional homicide     Total    Total  Total  Total  1994   \n",
       "\n",
       "   Unit of measurement        VALUE                      Source  \n",
       "32              Counts   495.532800  RSC/Interpol/OCAVI/NSO/CTS  \n",
       "33              Counts   703.793238  RSC/Interpol/OCAVI/NSO/CTS  \n",
       "34              Counts   955.106152  RSC/Interpol/OCAVI/NSO/CTS  \n",
       "35              Counts  1252.522760  RSC/Interpol/OCAVI/NSO/CTS  \n",
       "36              Counts  1682.445375  RSC/Interpol/OCAVI/NSO/CTS  "
      ]
     },
     "execution_count": 7,
     "metadata": {},
     "output_type": "execute_result"
    }
   ],
   "source": [
    "homicidios_hnd = datos[datos['Indicator'] == 'Victims of intentional homicide']\n",
    "homicidios_hnd.head()"
   ]
  },
  {
   "cell_type": "code",
   "execution_count": 8,
   "id": "108eade6-645f-4cf0-9cb8-473733b1b516",
   "metadata": {},
   "outputs": [
    {
     "data": {
      "text/plain": [
       "Dimension                       Category                                             Sex     Age      Year\n",
       "Total                           Total                                                Female  0-9      2013    2\n",
       "by relationship to perpetrator  Intimate partner or family member: Intimate partner  Male    Total    2022    2\n",
       "                                                                                     Female  Total    2015    2\n",
       "                                                                                                      2016    2\n",
       "                                                                                                      2017    2\n",
       "                                                                                                             ..\n",
       "Total                           Total                                                Male    Unknown  2013    1\n",
       "                                                                                                      2014    1\n",
       "                                                                                                      2015    1\n",
       "                                                                                                      2016    1\n",
       "by citizenship                  National citizens                                    Female  Total    2016    1\n",
       "Name: count, Length: 649, dtype: int64"
      ]
     },
     "execution_count": 8,
     "metadata": {},
     "output_type": "execute_result"
    }
   ],
   "source": [
    "homicidios_hnd[['Dimension', 'Category', 'Sex', 'Age', 'Year']].value_counts()"
   ]
  },
  {
   "cell_type": "code",
   "execution_count": 9,
   "id": "973f84c8-75e3-4cb3-bd28-ddb73a7a14ab",
   "metadata": {},
   "outputs": [],
   "source": [
    "hmcds_total = homicidios_hnd[\n",
    "    (homicidios_hnd['Dimension'] == 'Total') &\n",
    "    (homicidios_hnd['Category'] == 'Total') &\n",
    "    (homicidios_hnd['Sex'] == 'Total') &\n",
    "    (homicidios_hnd['Age'] == 'Total') &\n",
    "    (homicidios_hnd['Unit of measurement'] == 'Rate per 100,000 population')\n",
    "].reset_index(drop=True)"
   ]
  },
  {
   "cell_type": "code",
   "execution_count": 10,
   "id": "d15138f0-79ed-4a29-8978-57f8884e61a0",
   "metadata": {},
   "outputs": [],
   "source": [
    "hmcds_total = hmcds_total[(hmcds_total['Year'] >= 2002) & (hmcds_total['Year'] <= 2021)]"
   ]
  },
  {
   "cell_type": "code",
   "execution_count": 11,
   "id": "bdf277ab-1cbc-4dfa-97b5-e4091e81dbd4",
   "metadata": {},
   "outputs": [
    {
     "name": "stdout",
     "output_type": "stream",
     "text": [
      "Iso3_code               object\n",
      "Country                 object\n",
      "Region                  object\n",
      "Subregion               object\n",
      "Indicator               object\n",
      "Dimension               object\n",
      "Category                object\n",
      "Sex                     object\n",
      "Age                     object\n",
      "Year                     int64\n",
      "Unit of measurement     object\n",
      "VALUE                  float64\n",
      "Source                  object\n",
      "dtype: object\n"
     ]
    }
   ],
   "source": [
    "print(hmcds_total.dtypes)"
   ]
  },
  {
   "cell_type": "code",
   "execution_count": 12,
   "id": "3f786826-3349-47a0-87bd-759ec8255c2a",
   "metadata": {},
   "outputs": [],
   "source": [
    "hmcds_total['Year'] = pd.to_datetime(hmcds_total['Year'], format='%Y').dt.year"
   ]
  },
  {
   "cell_type": "code",
   "execution_count": 13,
   "id": "49af56b6-908c-4a5e-ab1f-6de459174131",
   "metadata": {},
   "outputs": [
    {
     "data": {
      "text/plain": [
       "count    20.000000\n",
       "mean     54.491106\n",
       "std      14.931512\n",
       "min      35.702849\n",
       "25%      40.938825\n",
       "50%      53.464186\n",
       "75%      64.602166\n",
       "max      83.179333\n",
       "Name: VALUE, dtype: float64"
      ]
     },
     "execution_count": 13,
     "metadata": {},
     "output_type": "execute_result"
    }
   ],
   "source": [
    "hmcds_total['VALUE'].describe()"
   ]
  },
  {
   "cell_type": "code",
   "execution_count": 14,
   "id": "1592b781",
   "metadata": {},
   "outputs": [
    {
     "name": "stdout",
     "output_type": "stream",
     "text": [
      "9     2002\n",
      "10    2003\n",
      "11    2004\n",
      "12    2005\n",
      "13    2006\n",
      "14    2007\n",
      "15    2008\n",
      "16    2009\n",
      "17    2010\n",
      "18    2011\n",
      "19    2012\n",
      "20    2013\n",
      "21    2014\n",
      "22    2015\n",
      "23    2016\n",
      "24    2017\n",
      "25    2018\n",
      "26    2019\n",
      "27    2020\n",
      "28    2021\n",
      "Name: Year, dtype: int32\n"
     ]
    }
   ],
   "source": [
    "print(hmcds_total['Year'])"
   ]
  },
  {
   "cell_type": "markdown",
   "id": "8b98a8a4-df6e-4ff1-9a53-176c0a740623",
   "metadata": {},
   "source": [
    "Se realiza la primera gráfica."
   ]
  },
  {
   "cell_type": "code",
   "execution_count": 15,
   "id": "46f03377-76ad-4f58-9d08-ec8cc80edfe8",
   "metadata": {},
   "outputs": [
    {
     "name": "stderr",
     "output_type": "stream",
     "text": [
      "/var/folders/z5/x0d42x394b14041xjcnf6wzh0000gn/T/ipykernel_3921/1514350255.py:17: UserWarning: set_ticklabels() should only be used with a fixed number of ticks, i.e. after set_ticks() or using a FixedLocator.\n",
      "  gráfica.set_xticklabels(gráfica.get_xticklabels(), rotation=45)\n"
     ]
    },
    {
     "data": {
      "image/png": "[encoded data removed]",
      "text/plain": [
       "<Figure size 1000x600 with 1 Axes>"
      ]
     },
     "metadata": {},
     "output_type": "display_data"
    }
   ],
   "source": [
    "sns.set_theme(style='darkgrid')\n",
    "plt.rc('font', family='Times New Roman')\n",
    "\n",
    "plt.figure(figsize=(10,6))\n",
    "\n",
    "gráfica = sns.pointplot(x='Year', \n",
    "                        y='VALUE', \n",
    "                        data=hmcds_total, \n",
    "                        color='tomato', \n",
    "                        markers='o', \n",
    "                        linestyles='-',\n",
    "                        alpha=0.8,\n",
    "                        linewidth=2,\n",
    "                        markeredgewidth=2\n",
    "                       )\n",
    "\n",
    "gráfica.set_xticklabels(gráfica.get_xticklabels(), rotation=45)\n",
    " \n",
    "plt.ylabel('Total', fontweight='bold')\n",
    "plt.xlabel('Año', fontweight='bold')\n",
    "\n",
    "\n",
    "plt.show()"
   ]
  },
  {
   "cell_type": "markdown",
   "id": "20046d8c-945c-4763-9320-3b3d333c1c2c",
   "metadata": {},
   "source": [
    "Ahora, se revisará el dataset de incautaciónes de droga."
   ]
  },
  {
   "cell_type": "code",
   "execution_count": 16,
   "id": "0ec13e25-372b-40e4-b1b7-3b4bf56920aa",
   "metadata": {},
   "outputs": [],
   "source": [
    "drg_szrs = pd.read_excel('datasets/drug_seizures_2018-2022.xlsx', skiprows=1)"
   ]
  },
  {
   "cell_type": "code",
   "execution_count": 17,
   "id": "987ff8d3-7fbf-4ecf-9c3a-262a4517c8b8",
   "metadata": {},
   "outputs": [
    {
     "data": {
      "text/html": [
       "<div>\n",
       "<style scoped>\n",
       "    .dataframe tbody tr th:only-of-type {\n",
       "        vertical-align: middle;\n",
       "    }\n",
       "\n",
       "    .dataframe tbody tr th {\n",
       "        vertical-align: top;\n",
       "    }\n",
       "\n",
       "    .dataframe thead th {\n",
       "        text-align: right;\n",
       "    }\n",
       "</style>\n",
       "<table border=\"1\" class=\"dataframe\">\n",
       "  <thead>\n",
       "    <tr style=\"text-align: right;\">\n",
       "      <th></th>\n",
       "      <th>Region</th>\n",
       "      <th>SubRegion</th>\n",
       "      <th>Country</th>\n",
       "      <th>DrugGroup</th>\n",
       "      <th>DrugSubGroup</th>\n",
       "      <th>DrugName</th>\n",
       "      <th>Reference year</th>\n",
       "      <th>Kilograms</th>\n",
       "      <th>msCode</th>\n",
       "    </tr>\n",
       "  </thead>\n",
       "  <tbody>\n",
       "    <tr>\n",
       "      <th>0</th>\n",
       "      <td>Americas</td>\n",
       "      <td>Central America</td>\n",
       "      <td>Honduras</td>\n",
       "      <td>Amphetamine-type stimulants (excluding “ecstasy”)</td>\n",
       "      <td>Methamphetamine</td>\n",
       "      <td>Methamphetamine</td>\n",
       "      <td>2022</td>\n",
       "      <td>0.0034</td>\n",
       "      <td>HND</td>\n",
       "    </tr>\n",
       "    <tr>\n",
       "      <th>1</th>\n",
       "      <td>Americas</td>\n",
       "      <td>Central America</td>\n",
       "      <td>Honduras</td>\n",
       "      <td>Cannabis-type drugs (excluding synthetic canna...</td>\n",
       "      <td>Cannabis herb (marijuana)</td>\n",
       "      <td>Cannabis herb (marijuana)</td>\n",
       "      <td>2022</td>\n",
       "      <td>13352.0000</td>\n",
       "      <td>HND</td>\n",
       "    </tr>\n",
       "    <tr>\n",
       "      <th>2</th>\n",
       "      <td>Americas</td>\n",
       "      <td>Central America</td>\n",
       "      <td>Honduras</td>\n",
       "      <td>Cannabis-type drugs (excluding synthetic canna...</td>\n",
       "      <td>Cannabis herb (marijuana)</td>\n",
       "      <td>Cannabis herb (marijuana)</td>\n",
       "      <td>2022</td>\n",
       "      <td>24.1000</td>\n",
       "      <td>HND</td>\n",
       "    </tr>\n",
       "    <tr>\n",
       "      <th>3</th>\n",
       "      <td>Americas</td>\n",
       "      <td>Central America</td>\n",
       "      <td>Honduras</td>\n",
       "      <td>Cannabis-type drugs (excluding synthetic canna...</td>\n",
       "      <td>Cannabis plants</td>\n",
       "      <td>Cannabis plants</td>\n",
       "      <td>2022</td>\n",
       "      <td>14200.6000</td>\n",
       "      <td>HND</td>\n",
       "    </tr>\n",
       "    <tr>\n",
       "      <th>4</th>\n",
       "      <td>Americas</td>\n",
       "      <td>Central America</td>\n",
       "      <td>Honduras</td>\n",
       "      <td>Cannabis-type drugs (excluding synthetic canna...</td>\n",
       "      <td>Cannabis seed</td>\n",
       "      <td>Cannabis seed</td>\n",
       "      <td>2022</td>\n",
       "      <td>7.2000</td>\n",
       "      <td>HND</td>\n",
       "    </tr>\n",
       "  </tbody>\n",
       "</table>\n",
       "</div>"
      ],
      "text/plain": [
       "     Region        SubRegion   Country  \\\n",
       "0  Americas  Central America  Honduras   \n",
       "1  Americas  Central America  Honduras   \n",
       "2  Americas  Central America  Honduras   \n",
       "3  Americas  Central America  Honduras   \n",
       "4  Americas  Central America  Honduras   \n",
       "\n",
       "                                           DrugGroup  \\\n",
       "0  Amphetamine-type stimulants (excluding “ecstasy”)   \n",
       "1  Cannabis-type drugs (excluding synthetic canna...   \n",
       "2  Cannabis-type drugs (excluding synthetic canna...   \n",
       "3  Cannabis-type drugs (excluding synthetic canna...   \n",
       "4  Cannabis-type drugs (excluding synthetic canna...   \n",
       "\n",
       "                DrugSubGroup                   DrugName  Reference year  \\\n",
       "0            Methamphetamine            Methamphetamine            2022   \n",
       "1  Cannabis herb (marijuana)  Cannabis herb (marijuana)            2022   \n",
       "2  Cannabis herb (marijuana)  Cannabis herb (marijuana)            2022   \n",
       "3            Cannabis plants            Cannabis plants            2022   \n",
       "4              Cannabis seed              Cannabis seed            2022   \n",
       "\n",
       "    Kilograms msCode  \n",
       "0      0.0034    HND  \n",
       "1  13352.0000    HND  \n",
       "2     24.1000    HND  \n",
       "3  14200.6000    HND  \n",
       "4      7.2000    HND  "
      ]
     },
     "execution_count": 17,
     "metadata": {},
     "output_type": "execute_result"
    }
   ],
   "source": [
    "drg_szrs = drg_szrs[drg_szrs['msCode'] == 'HND'].reset_index(drop=True)\n",
    "drg_szrs.head()"
   ]
  },
  {
   "cell_type": "code",
   "execution_count": 18,
   "id": "caa8407c-1f8f-4489-aa92-2eebb9fb621e",
   "metadata": {},
   "outputs": [],
   "source": [
    "drg_szrs.value_counts()\n",
    "drg_szrs = drg_szrs[(drg_szrs['DrugName'] == 'Cocaine hydrochloride') & (drg_szrs['Reference year'] <= 2021)].reset_index(drop=True)"
   ]
  },
  {
   "cell_type": "code",
   "execution_count": 23,
   "id": "f001ec94-e255-43d8-bb9e-3c3ba4a545b8",
   "metadata": {},
   "outputs": [
    {
     "data": {
      "text/plain": [
       "0    2021\n",
       "1    2021\n",
       "2    2020\n",
       "3    2019\n",
       "4    2019\n",
       "5    2018\n",
       "Name: Reference year, dtype: int32"
      ]
     },
     "execution_count": 23,
     "metadata": {},
     "output_type": "execute_result"
    }
   ],
   "source": [
    "drg_szrs['Reference year']"
   ]
  },
  {
   "cell_type": "code",
   "execution_count": 24,
   "id": "8efe16c3",
   "metadata": {},
   "outputs": [
    {
     "data": {
      "image/png": "[encoded data removed]",
      "text/plain": [
       "<Figure size 640x480 with 1 Axes>"
      ]
     },
     "metadata": {},
     "output_type": "display_data"
    }
   ],
   "source": [
    "gráfica2 = sns.lineplot(\n",
    "    x='Reference year',\n",
    "    y='Kilograms',\n",
    "    data=drg_szrs,\n",
    "    color='blue',\n",
    "    marker='o',\n",
    ")"
   ]
  },
  {
   "cell_type": "code",
   "execution_count": null,
   "id": "b16b7e44",
   "metadata": {},
   "outputs": [],
   "source": []
  }
 ],
 "metadata": {
  "kernelspec": {
   "display_name": "Python 3",
   "language": "python",
   "name": "python3"
  },
  "language_info": {
   "codemirror_mode": {
    "name": "ipython",
    "version": 3
   },
   "file_extension": ".py",
   "mimetype": "text/x-python",
   "name": "python",
   "nbconvert_exporter": "python",
   "pygments_lexer": "ipython3",
   "version": "3.11.8"
  }
 },
 "nbformat": 4,
 "nbformat_minor": 5
}
