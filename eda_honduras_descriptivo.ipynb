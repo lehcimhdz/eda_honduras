{
 "cells": [
  {
   "cell_type": "markdown",
   "metadata": {},
   "source": [
    "Análisis exploratorio descriptivo sobre la violencia en Honduras"
   ]
  },
  {
   "cell_type": "code",
   "execution_count": 1,
   "metadata": {},
   "outputs": [],
   "source": [
    "import pandas as pd\n",
    "import numpy as np\n",
    "import matplotlib.pyplot as plt\n",
    "import seaborn as sns"
   ]
  },
  {
   "cell_type": "code",
   "execution_count": 2,
   "metadata": {},
   "outputs": [
    {
     "name": "stdout",
     "output_type": "stream",
     "text": [
      "  Iso3_code      Country  Region       Subregion  \\\n",
      "0       ARM      Armenia    Asia    Western Asia   \n",
      "1       CHE  Switzerland  Europe  Western Europe   \n",
      "\n",
      "                                           Indicator       Dimension  \\\n",
      "0  Persons arrested/suspected for intentional hom...  by citizenship   \n",
      "1  Persons arrested/suspected for intentional hom...  by citizenship   \n",
      "\n",
      "            Category   Sex    Age  Year Unit of measurement  VALUE Source  \n",
      "0  National citizens  Male  Total  2013              Counts   35.0    CTS  \n",
      "1  National citizens  Male  Total  2013              Counts   28.0    CTS  \n"
     ]
    }
   ],
   "source": [
    "# Se carga la base de datos\n",
    "\n",
    "datos = pd.read_excel('datasets/data_cts_intentional_homicide.xlsx', skiprows=2)\n",
    "print(datos.head(2))"
   ]
  },
  {
   "cell_type": "code",
   "execution_count": null,
   "metadata": {},
   "outputs": [
    {
     "name": "stdout",
     "output_type": "stream",
     "text": [
      "   Iso3_code   Country    Region                        Subregion  \\\n",
      "7        HND  Honduras  Americas  Latin America and the Caribbean   \n",
      "27       HND  Honduras  Americas  Latin America and the Caribbean   \n",
      "\n",
      "                                            Indicator       Dimension  \\\n",
      "7   Persons arrested/suspected for intentional hom...  by citizenship   \n",
      "27  Persons arrested/suspected for intentional hom...  by citizenship   \n",
      "\n",
      "             Category   Sex    Age  Year Unit of measurement   VALUE Source  \n",
      "7   National citizens  Male  Total  2013              Counts   905.0    CTS  \n",
      "27  National citizens  Male  Total  2014              Counts  1319.0    CTS  \n"
     ]
    }
   ],
   "source": [
    "# Se filtran unicamente los datos de Honduras y se elimina la base de UNOCD del entorno para optimizar la memoria RAM\n",
    "\n",
    "honduras = datos[datos['Country'] == 'Honduras']\n",
    "print(honduras.head(2))\n",
    "\n",
    "del datos"
   ]
  },
  {
   "cell_type": "code",
   "execution_count": 5,
   "metadata": {},
   "outputs": [
    {
     "name": "stdout",
     "output_type": "stream",
     "text": [
      "columna: Iso3_code\n",
      "['HND']\n",
      "columna: Country\n",
      "['Honduras']\n",
      "columna: Region\n",
      "['Americas']\n",
      "columna: Subregion\n",
      "['Latin America and the Caribbean']\n",
      "columna: Indicator\n",
      "['Persons arrested/suspected for intentional homicide'\n",
      " 'Victims of intentional homicide'\n",
      " 'Victims of intentional homicide – City-level data'\n",
      " 'Persons convicted for intentional homicide'\n",
      " 'Death due to intentional homicide in prison']\n",
      "columna: Dimension\n",
      "['by citizenship' 'Total' 'by relationship to perpetrator'\n",
      " 'by situational context' 'by mechanisms' 'by location']\n",
      "columna: Category\n",
      "['National citizens' 'Foreign citizens' 'Total'\n",
      " 'Intimate partner or family member'\n",
      " 'Intimate partner or family member: Intimate partner'\n",
      " 'Intimate partner or family member: Family member'\n",
      " 'Other Perpetrator known to the victim'\n",
      " 'Perpetrator unknown to the victim'\n",
      " 'Perpetrator to victim relationship unknown'\n",
      " 'Organized criminal groups or gangs' 'Other criminal activities'\n",
      " 'Interpersonal homicide' 'Socio-political homicide'\n",
      " 'Socio-political homicide - terrorist offences'\n",
      " 'Unknown types of homicide' 'Firearms or explosives'\n",
      " 'Firearms or explosives - firearms' 'Another weapon'\n",
      " 'Another weapon - sharp object' 'Without a weapon/ other Mechanism'\n",
      " 'Unspecified means' '2nd largest city' '3rd largest city'\n",
      " '1st largest city']\n",
      "columna: Sex\n",
      "['Male' 'Female' 'Total']\n",
      "columna: Age\n",
      "['Total' 'Unknown' '0-9' '10 -14' '15 -17' '18-19' '20-24' '25-29' '30-44'\n",
      " '45-59' '60 and older']\n",
      "columna: Year\n",
      "[2013 2014 2015 2016 2019 2020 2021 2022 1990 1991 1992 1993 1994 1995\n",
      " 1999 2000 2001 2002 2003 2004 2005 2006 2007 2008 2009 2010 2011 2012\n",
      " 2017 2018 2023]\n",
      "columna: Unit of measurement\n",
      "['Counts' 'Rate per 100,000 population']\n",
      "columna: VALUE\n",
      "[9.05000000e+02 1.31900000e+03 1.87900000e+03 ... 1.87753705e-01\n",
      " 1.84647503e-01 1.72020453e-01]\n",
      "columna: Source\n",
      "['CTS' 'RSC/Interpol/OCAVI/NSO/CTS' 'NP/CTS']\n"
     ]
    }
   ],
   "source": [
    "# Se establece un ciclo for para recorrer las columnas de la base de datos y mostrar los valores únicos de cada una\n",
    "\n",
    "for col in honduras.columns:\n",
    "    print(f'columna: {col}')\n",
    "    print(honduras[col].unique())"
   ]
  },
  {
   "cell_type": "code",
   "execution_count": 6,
   "metadata": {},
   "outputs": [],
   "source": [
    "# Se filtran los datos sobre cada tipo de indicador usando un ciclo for y asignando un número a cada uno\n",
    "\n",
    "dataframes = {}\n",
    "\n",
    "for idx, i in enumerate(honduras['Indicator'].unique(), start=1):\n",
    "    dataframes[idx] = honduras[honduras['Indicator'] == i]"
   ]
  },
  {
   "cell_type": "code",
   "execution_count": 7,
   "metadata": {},
   "outputs": [],
   "source": [
    "# Se nombran los dataframes acorde a los nombres de los indicadores\n",
    "\n",
    "arrestos = dataframes[1]\n",
    "homicidios = dataframes[2]\n",
    "homicidios_ciudad = dataframes[3]\n",
    "presos = dataframes[4]\n",
    "muertes_prision = dataframes[5]"
   ]
  },
  {
   "cell_type": "markdown",
   "metadata": {},
   "source": [
    "Análisis de los *arrestos*"
   ]
  },
  {
   "cell_type": "code",
   "execution_count": null,
   "metadata": {},
   "outputs": [
    {
     "name": "stdout",
     "output_type": "stream",
     "text": [
      "columna: Iso3_code\n",
      "['HND']\n",
      "columna: Country\n",
      "['Honduras']\n",
      "columna: Region\n",
      "['Americas']\n",
      "columna: Subregion\n",
      "['Latin America and the Caribbean']\n",
      "columna: Indicator\n",
      "['Persons arrested/suspected for intentional homicide']\n",
      "columna: Dimension\n",
      "['by citizenship' 'Total']\n",
      "columna: Category\n",
      "['National citizens' 'Foreign citizens' 'Total']\n",
      "columna: Sex\n",
      "['Male' 'Female']\n",
      "columna: Age\n",
      "['Total' 'Unknown' '0-9' '10 -14' '15 -17' '18-19' '20-24' '25-29' '30-44'\n",
      " '45-59' '60 and older']\n",
      "columna: Year\n",
      "[2013 2014 2015 2016 2019 2020 2021 2022 2018]\n",
      "columna: Unit of measurement\n",
      "['Counts' 'Rate per 100,000 population']\n",
      "columna: VALUE\n",
      "[9.05000000e+02 1.31900000e+03 1.87900000e+03 1.68200000e+03\n",
      " 1.56100000e+03 1.16900000e+03 1.24800000e+03 1.23300000e+03\n",
      " 1.80000000e+01 3.70000000e+01 5.80000000e+01 5.00000000e+01\n",
      " 3.30000000e+01 4.10000000e+01 3.50000000e+01 4.50000000e+01\n",
      " 5.00000000e+00 1.30000000e+01 6.00000000e+00 8.00000000e+00\n",
      " 1.00000000e+01 1.60000000e+01 0.00000000e+00 3.10000000e+01\n",
      " 4.20000000e+01 5.30000000e+01 1.00000000e+00 4.00000000e+00\n",
      " 1.20000000e+01 7.00000000e+00 3.00000000e+00 2.00000000e+00\n",
      " 3.60000000e+01 4.80000000e+01 4.70000000e+01 2.70000000e+01\n",
      " 1.90000000e+01 5.50000000e+01 9.50000000e+01 1.07000000e+02\n",
      " 1.12000000e+02 7.80000000e+01 7.90000000e+01 5.90000000e+01\n",
      " 3.80000000e+01 2.02000000e+02 2.84000000e+02 3.43000000e+02\n",
      " 3.03000000e+02 2.98000000e+02 3.25000000e+02 2.39000000e+02\n",
      " 2.36000000e+02 2.08000000e+02 2.10000000e+01 9.00000000e+00\n",
      " 1.82000000e+02 2.29000000e+02 3.60000000e+02 2.78000000e+02\n",
      " 2.56000000e+02 2.23000000e+02 2.18000000e+02 2.24000000e+02\n",
      " 2.87000000e+02 4.46000000e+02 6.79000000e+02 5.92000000e+02\n",
      " 5.90000000e+02 5.54000000e+02 4.11000000e+02 4.37000000e+02\n",
      " 4.62000000e+02 1.50000000e+01 2.00000000e+01 2.30000000e+01\n",
      " 8.90000000e+01 1.41000000e+02 2.51000000e+02 2.21000000e+02\n",
      " 1.45000000e+02 2.16000000e+02 2.12000000e+02 4.00000000e+01\n",
      " 7.60000000e+01 8.20000000e+01 6.30000000e+01 4.60000000e+01\n",
      " 7.20000000e+01 1.08090531e+00 6.27701920e-01 3.56881091e-01\n",
      " 8.87216978e-02 4.40989634e-01 2.78900422e+01 4.72553355e+01\n",
      " 5.24067943e+01 5.41326928e+01 5.00456023e+01 3.59158188e+01\n",
      " 3.61165146e+01 2.69752513e+01 1.74177698e+01 5.26827367e-01\n",
      " 1.03466382e+00 2.03955721e+00 2.01403784e+00 1.46363596e+00\n",
      " 9.61443704e-01 4.77783086e-01 4.78300693e-01 4.79824576e-01\n",
      " 4.48903354e+01 6.16340845e+01 7.27046115e+01 6.28207122e+01\n",
      " 5.95145966e+01 6.38483043e+01 4.61982601e+01 4.49318835e+01\n",
      " 3.90938864e+01 9.20652420e-01 1.57405950e+00 4.61381795e+00\n",
      " 4.08485315e+00 1.24422730e+00 1.63323469e+00 1.80928343e+00\n",
      " 1.38706836e+00 1.17462803e+00 4.61398443e+01 5.67350584e+01\n",
      " 8.71257224e+01 6.57006932e+01 6.83568634e+01 5.63844361e+01\n",
      " 4.79580722e+01 4.58448866e+01 4.61639604e+01 5.20367848e-01\n",
      " 1.27295455e+00 2.24183970e+00 2.43640674e+00 9.31952335e-01\n",
      " 1.36535858e+00 4.44541256e-01 6.52290191e-01 1.27916360e+00\n",
      " 3.41338535e+01 5.10378361e+01 7.49104164e+01 6.30756519e+01\n",
      " 5.88183982e+01 5.35406924e+01 3.85819853e+01 3.99227673e+01\n",
      " 4.11149447e+01 4.77215638e-01 1.72721515e+00 1.66952991e+00\n",
      " 7.54106785e-01 9.10757872e-01 6.87895448e-01 1.91202121e+00\n",
      " 1.39731678e+00 2.08930318e+00 2.10875988e+01 3.24101796e+01\n",
      " 5.58598918e+01 4.81506600e+01 4.40972974e+01 4.52645772e+01\n",
      " 2.66775339e+01 3.80908042e+01 3.57574766e+01 2.17629514e-01\n",
      " 4.20267837e-01 1.41887674e+00 7.53187159e-01 9.06613382e-01\n",
      " 3.48733704e-01 1.17324564e+00 1.28730986e+00 9.45649898e+00\n",
      " 1.72381472e+01 2.06442236e+01 3.00923955e+01 2.99701578e+01\n",
      " 2.21648360e+01 1.56740880e+01 2.39367273e+01 3.06544565e+01\n",
      " 7.33533099e-01 3.50029753e-01 5.84664541e-01 2.81720297e-01\n",
      " 2.70832797e-01]\n",
      "columna: Source\n",
      "['CTS']\n"
     ]
    }
   ],
   "source": [
    "# Se analizan las frecuencias de la base de datos sobre arrestos\n",
    "\n",
    "for col in arrestos.columns:\n",
    "    print(f'columna: {col}')\n",
    "    print(arrestos[col].unique())"
   ]
  },
  {
   "cell_type": "code",
   "execution_count": null,
   "metadata": {},
   "outputs": [],
   "source": []
  }
 ],
 "metadata": {
  "kernelspec": {
   "display_name": "Python 3",
   "language": "python",
   "name": "python3"
  },
  "language_info": {
   "codemirror_mode": {
    "name": "ipython",
    "version": 3
   },
   "file_extension": ".py",
   "mimetype": "text/x-python",
   "name": "python",
   "nbconvert_exporter": "python",
   "pygments_lexer": "ipython3",
   "version": "3.13.2"
  }
 },
 "nbformat": 4,
 "nbformat_minor": 2
}
