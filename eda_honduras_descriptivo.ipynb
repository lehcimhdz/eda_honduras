{
 "cells": [
  {
   "cell_type": "markdown",
   "metadata": {},
   "source": [
    "Análisis exploratorio descriptivo sobre la violencia en Honduras"
   ]
  },
  {
   "cell_type": "code",
   "execution_count": 1,
   "metadata": {},
   "outputs": [],
   "source": [
    "import pandas as pd\n",
    "import numpy as np\n",
    "import matplotlib.pyplot as plt\n",
    "import seaborn as sns"
   ]
  },
  {
   "cell_type": "code",
   "execution_count": 2,
   "metadata": {},
   "outputs": [
    {
     "name": "stdout",
     "output_type": "stream",
     "text": [
      "  Iso3_code      Country  Region       Subregion  \\\n",
      "0       ARM      Armenia    Asia    Western Asia   \n",
      "1       CHE  Switzerland  Europe  Western Europe   \n",
      "\n",
      "                                           Indicator       Dimension  \\\n",
      "0  Persons arrested/suspected for intentional hom...  by citizenship   \n",
      "1  Persons arrested/suspected for intentional hom...  by citizenship   \n",
      "\n",
      "            Category   Sex    Age  Year Unit of measurement  VALUE Source  \n",
      "0  National citizens  Male  Total  2013              Counts   35.0    CTS  \n",
      "1  National citizens  Male  Total  2013              Counts   28.0    CTS  \n"
     ]
    }
   ],
   "source": [
    "# Se carga la base de datos\n",
    "\n",
    "datos = pd.read_excel('datasets/data_cts_intentional_homicide.xlsx', skiprows=2)\n",
    "print(datos.head(2))"
   ]
  },
  {
   "cell_type": "code",
   "execution_count": null,
   "metadata": {},
   "outputs": [
    {
     "name": "stdout",
     "output_type": "stream",
     "text": [
      "   Iso3_code   Country    Region                        Subregion  \\\n",
      "7        HND  Honduras  Americas  Latin America and the Caribbean   \n",
      "27       HND  Honduras  Americas  Latin America and the Caribbean   \n",
      "\n",
      "                                            Indicator       Dimension  \\\n",
      "7   Persons arrested/suspected for intentional hom...  by citizenship   \n",
      "27  Persons arrested/suspected for intentional hom...  by citizenship   \n",
      "\n",
      "             Category   Sex    Age  Year Unit of measurement   VALUE Source  \n",
      "7   National citizens  Male  Total  2013              Counts   905.0    CTS  \n",
      "27  National citizens  Male  Total  2014              Counts  1319.0    CTS  \n"
     ]
    }
   ],
   "source": [
    "# Se filtran unicamente los datos de Honduras y se elimina la base de UNOCD del entorno para optimizar la memoria RAM\n",
    "\n",
    "honduras = datos[datos['Country'] == 'Honduras']\n",
    "print(honduras.head(2))\n",
    "\n",
    "del datos"
   ]
  },
  {
   "cell_type": "code",
   "execution_count": 5,
   "metadata": {},
   "outputs": [
    {
     "name": "stdout",
     "output_type": "stream",
     "text": [
      "columna: Iso3_code\n",
      "['HND']\n",
      "columna: Country\n",
      "['Honduras']\n",
      "columna: Region\n",
      "['Americas']\n",
      "columna: Subregion\n",
      "['Latin America and the Caribbean']\n",
      "columna: Indicator\n",
      "['Persons arrested/suspected for intentional homicide'\n",
      " 'Victims of intentional homicide'\n",
      " 'Victims of intentional homicide – City-level data'\n",
      " 'Persons convicted for intentional homicide'\n",
      " 'Death due to intentional homicide in prison']\n",
      "columna: Dimension\n",
      "['by citizenship' 'Total' 'by relationship to perpetrator'\n",
      " 'by situational context' 'by mechanisms' 'by location']\n",
      "columna: Category\n",
      "['National citizens' 'Foreign citizens' 'Total'\n",
      " 'Intimate partner or family member'\n",
      " 'Intimate partner or family member: Intimate partner'\n",
      " 'Intimate partner or family member: Family member'\n",
      " 'Other Perpetrator known to the victim'\n",
      " 'Perpetrator unknown to the victim'\n",
      " 'Perpetrator to victim relationship unknown'\n",
      " 'Organized criminal groups or gangs' 'Other criminal activities'\n",
      " 'Interpersonal homicide' 'Socio-political homicide'\n",
      " 'Socio-political homicide - terrorist offences'\n",
      " 'Unknown types of homicide' 'Firearms or explosives'\n",
      " 'Firearms or explosives - firearms' 'Another weapon'\n",
      " 'Another weapon - sharp object' 'Without a weapon/ other Mechanism'\n",
      " 'Unspecified means' '2nd largest city' '3rd largest city'\n",
      " '1st largest city']\n",
      "columna: Sex\n",
      "['Male' 'Female' 'Total']\n",
      "columna: Age\n",
      "['Total' 'Unknown' '0-9' '10 -14' '15 -17' '18-19' '20-24' '25-29' '30-44'\n",
      " '45-59' '60 and older']\n",
      "columna: Year\n",
      "[2013 2014 2015 2016 2019 2020 2021 2022 1990 1991 1992 1993 1994 1995\n",
      " 1999 2000 2001 2002 2003 2004 2005 2006 2007 2008 2009 2010 2011 2012\n",
      " 2017 2018 2023]\n",
      "columna: Unit of measurement\n",
      "['Counts' 'Rate per 100,000 population']\n",
      "columna: VALUE\n",
      "[9.05000000e+02 1.31900000e+03 1.87900000e+03 ... 1.87753705e-01\n",
      " 1.84647503e-01 1.72020453e-01]\n",
      "columna: Source\n",
      "['CTS' 'RSC/Interpol/OCAVI/NSO/CTS' 'NP/CTS']\n"
     ]
    }
   ],
   "source": [
    "# Se establece un ciclo for para recorrer las columnas de la base de datos y mostrar los valores únicos de cada una\n",
    "\n",
    "for col in honduras.columns:\n",
    "    print(f'columna: {col}')\n",
    "    print(honduras[col].unique())"
   ]
  },
  {
   "cell_type": "code",
   "execution_count": 6,
   "metadata": {},
   "outputs": [],
   "source": [
    "# Se filtran los datos sobre cada tipo de indicador usando un ciclo for y asignando un número a cada uno\n",
    "\n",
    "dataframes = {}\n",
    "\n",
    "for idx, i in enumerate(honduras['Indicator'].unique(), start=1):\n",
    "    dataframes[idx] = honduras[honduras['Indicator'] == i]"
   ]
  },
  {
   "cell_type": "code",
   "execution_count": 7,
   "metadata": {},
   "outputs": [],
   "source": [
    "# Se nombran los dataframes acorde a los nombres de los indicadores\n",
    "\n",
    "arrestos = dataframes[1]\n",
    "homicidios = dataframes[2]\n",
    "homicidios_ciudad = dataframes[3]\n",
    "presos = dataframes[4]\n",
    "muertes_prision = dataframes[5]"
   ]
  },
  {
   "cell_type": "code",
   "execution_count": null,
   "metadata": {},
   "outputs": [],
   "source": []
  }
 ],
 "metadata": {
  "kernelspec": {
   "display_name": "Python 3",
   "language": "python",
   "name": "python3"
  },
  "language_info": {
   "codemirror_mode": {
    "name": "ipython",
    "version": 3
   },
   "file_extension": ".py",
   "mimetype": "text/x-python",
   "name": "python",
   "nbconvert_exporter": "python",
   "pygments_lexer": "ipython3",
   "version": "3.13.2"
  }
 },
 "nbformat": 4,
 "nbformat_minor": 2
}
